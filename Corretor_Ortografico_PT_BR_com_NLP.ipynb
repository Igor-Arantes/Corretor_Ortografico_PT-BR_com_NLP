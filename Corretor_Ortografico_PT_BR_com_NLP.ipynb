{
  "nbformat": 4,
  "nbformat_minor": 0,
  "metadata": {
    "colab": {
      "name": "Corretor Ortografico PT-BR com NLP.ipynb",
      "provenance": []
    },
    "kernelspec": {
      "name": "python3",
      "display_name": "Python 3"
    }
  },
  "cells": [
    {
      "cell_type": "code",
      "metadata": {
        "id": "f8LxlWrEWtQA",
        "colab_type": "code",
        "colab": {
          "base_uri": "https://localhost:8080/",
          "height": 73
        },
        "outputId": "eb4b0a1b-2118-4417-aa4f-a076972896ae"
      },
      "source": [
        "#Natural Language Tool Kit\n",
        "import nltk\n",
        "nltk.download('punkt')"
      ],
      "execution_count": 57,
      "outputs": [
        {
          "output_type": "stream",
          "text": [
            "[nltk_data] Downloading package punkt to /root/nltk_data...\n",
            "[nltk_data]   Package punkt is already up-to-date!\n"
          ],
          "name": "stdout"
        },
        {
          "output_type": "execute_result",
          "data": {
            "text/plain": [
              "True"
            ]
          },
          "metadata": {
            "tags": []
          },
          "execution_count": 57
        }
      ]
    },
    {
      "cell_type": "code",
      "metadata": {
        "id": "8I9fKb-hB1Zg",
        "colab_type": "code",
        "colab": {}
      },
      "source": [
        "with open('artigos.txt', \"r\") as f:\n",
        "  artigos = f.read()"
      ],
      "execution_count": 58,
      "outputs": []
    },
    {
      "cell_type": "code",
      "metadata": {
        "id": "enzh-ZrW-1gQ",
        "colab_type": "code",
        "colab": {}
      },
      "source": [
        "tokens = nltk.tokenize.word_tokenize(artigos) #Tokenização"
      ],
      "execution_count": 59,
      "outputs": []
    },
    {
      "cell_type": "code",
      "metadata": {
        "id": "McKxRrvfVPZl",
        "colab_type": "code",
        "colab": {}
      },
      "source": [
        "#removendo pontuações\n",
        "def remove_pontuação(tokens):\n",
        "  tokens_so_palavras = []\n",
        "  for token in tokens:\n",
        "    if token.isalpha():\n",
        "      tokens_so_palavras.append(token)\n",
        "  return tokens_so_palavras\n",
        "tokens = remove_pontuação(tokens)\n",
        "\n",
        "\n"
      ],
      "execution_count": 60,
      "outputs": []
    },
    {
      "cell_type": "code",
      "metadata": {
        "id": "zWNFfdwu_Hub",
        "colab_type": "code",
        "colab": {}
      },
      "source": [
        "#Normalização\n",
        "def normalização(tokens):\n",
        "  tokens_normalizados =[]\n",
        "  for token in tokens:\n",
        "    tokens_normalizados.append(token.lower())\n",
        "  return  tokens_normalizados\n",
        "tokens_normalizados = normalização(tokens)"
      ],
      "execution_count": 61,
      "outputs": []
    },
    {
      "cell_type": "code",
      "metadata": {
        "id": "y9_yLVKIWp4V",
        "colab_type": "code",
        "colab": {}
      },
      "source": [
        "#Remover palavras repetidas\n",
        "tokens_normalizados_unicos = set(tokens_normalizados)"
      ],
      "execution_count": 62,
      "outputs": []
    },
    {
      "cell_type": "code",
      "metadata": {
        "id": "jF3iYrlFqtVz",
        "colab_type": "code",
        "colab": {}
      },
      "source": [
        "#Fatiamento de palavras e manipulação das palavras\n",
        "def insere_letras(fatias):\n",
        "  novas_palavras = []\n",
        "  letras = \"abcdefghijklmnopqrstuvwxyzáàéíóúâêîôûãõç\"\n",
        "  for E,D in fatias:\n",
        "    for letra in letras:\n",
        "      novas_palavras.append(E + letra + D)\n",
        "  return novas_palavras\n",
        "\n",
        "def deleta_caracter(fatias):\n",
        "  novas_palavras = []\n",
        "  for E,D in fatias:\n",
        "    novas_palavras.append(E + D[1:])\n",
        "  return novas_palavras\n",
        "\n",
        "\n",
        "def troca_letra(fatias):\n",
        "  novas_palavras = []\n",
        "  letras = \"abcdefghijklmnopqrstuvwxyzáàéíóúâêîôûãõç\"\n",
        "  for E,D in fatias:\n",
        "    for letra in letras:\n",
        "      novas_palavras.append(E + letra + D[1:])\n",
        "  return novas_palavras\n",
        "\n",
        "def inverte_letra(fatias):\n",
        "  novas_palavras = []\n",
        "  for E,D in fatias:\n",
        "    if len(D) > 1:\n",
        "      novas_palavras.append(E +D[1] + D[0]+ D[2:])\n",
        "  return novas_palavras\n"
      ],
      "execution_count": 63,
      "outputs": []
    },
    {
      "cell_type": "code",
      "metadata": {
        "id": "nGl8HAp0ytYL",
        "colab_type": "code",
        "colab": {}
      },
      "source": [
        "#gerador de palavras posiveis\n",
        "def gerador_de_palavras(palavra):\n",
        "  fatias =[]\n",
        "  for i in range(1 + len(palavra)):\n",
        "    fatias.append((palavra[:i],palavra[i:]))\n",
        "  palavras_geradas = insere_letras(fatias)\n",
        "  palavras_geradas += deleta_caracter(fatias)\n",
        "  palavras_geradas += troca_letra(fatias)\n",
        "  palavras_geradas += inverte_letra(fatias)\n",
        "  return palavras_geradas\n",
        "\n",
        "def gerador_aprimorado(palavras_geradas):\n",
        "  novas_palavras=[]\n",
        "  for palavra in palavras_geradas:\n",
        "    novas_palavras += gerador_de_palavras(palavra)\n",
        "  return novas_palavras"
      ],
      "execution_count": 91,
      "outputs": []
    },
    {
      "cell_type": "code",
      "metadata": {
        "id": "aMgNqpL1zoVX",
        "colab_type": "code",
        "colab": {}
      },
      "source": [
        "total_de_palavras = len(tokens_normalizados)\n",
        "frequencia = nltk.FreqDist(tokens_normalizados)\n",
        "def corretor(palavra):\n",
        "  palavras_geradas = gerador_de_palavras(palavra)\n",
        "  palavra_correta = max(palavras_geradas,key=propabilidade)\n",
        "  return palavra_correta\n",
        "\n",
        "def propabilidade(palavra_gerada):\n",
        "  return frequencia[palavra_gerada]/total_de_palavras\n",
        "\n",
        "def corretor_aprimorado(palavra):\n",
        "  palavras_geradas = gerador_de_palavras(palavra)\n",
        "  palavras_geradas_aprimoradas = gerador_aprimorado(palavras_geradas)\n",
        "  soma_palavras = set(palavras_geradas + palavras_geradas_aprimoradas)\n",
        "  palavras_conhecidas=[]\n",
        "  for palavra in soma_palavras:\n",
        "    if palavra in vocabulario:\n",
        "      palavras_conhecidas.append(palavra)\n",
        "  try:\n",
        "    palavra_correta = max(palavras_conhecidas,key=propabilidade)\n",
        "  except:\n",
        "    palavra_correta = palavra\n",
        "  return palavra_correta\n",
        "\n",
        "def corretor_condicional(palavra):\n",
        "  palavras_geradas = gerador_de_palavras(palavra)\n",
        "  suposta_palavra_correta = max(palavras_geradas,key=propabilidade)\n",
        "  palavras_conhecidas=[]\n",
        "  if suposta_palavra_correta in vocabulario:\n",
        "    palavra_correta = suposta_palavra_correta\n",
        "  else:\n",
        "    palavras_geradas_aprimoradas = gerador_aprimorado(palavras_geradas)\n",
        "    soma_palavras = set(palavras_geradas + palavras_geradas_aprimoradas)\n",
        "    for palavra in soma_palavras:\n",
        "      if palavra in vocabulario:\n",
        "         palavras_conhecidas.append(palavra)\n",
        "    try:\n",
        "      palavra_correta = max(palavras_conhecidas,key=propabilidade)\n",
        "    except:\n",
        "      palavra_correta = palavra\n",
        "  return palavra_correta\n",
        "  \n"
      ],
      "execution_count": 122,
      "outputs": []
    },
    {
      "cell_type": "code",
      "metadata": {
        "id": "4xegIS9G0DTD",
        "colab_type": "code",
        "colab": {}
      },
      "source": [
        "def avaliação(testes, vocabulario):\n",
        "  numero_palavras = len(testes)\n",
        "  acertou = 0\n",
        "  desconhecida = 0\n",
        "  for correta, errada in testes:\n",
        "    palavra_corrigida = corretor_condicional(errada)\n",
        "    desconhecida +=(correta not in vocabulario)\n",
        "    if palavra_corrigida == correta:\n",
        "      acertou += 1    \n",
        "  taxa_acerto = round(100*acertou/numero_palavras,2)\n",
        "  taxa_desconhecida = round(100*desconhecida/numero_palavras,2)\n",
        "  return taxa_acerto, taxa_desconhecida"
      ],
      "execution_count": 118,
      "outputs": []
    },
    {
      "cell_type": "code",
      "metadata": {
        "id": "nJdgzzPRl9sB",
        "colab_type": "code",
        "colab": {}
      },
      "source": [
        "def dados_teste(arquivo):\n",
        "  lista_de_palavras_teste =[]\n",
        "  f = open(arquivo,\"r\")\n",
        "  for linha in f:    \n",
        "    correta, errada =linha.split()\n",
        "    lista_de_palavras_teste.append((correta, errada))\n",
        "  f.close\n",
        "  return lista_de_palavras_teste\n"
      ],
      "execution_count": 67,
      "outputs": []
    },
    {
      "cell_type": "code",
      "metadata": {
        "id": "VlPPMPsC6WDZ",
        "colab_type": "code",
        "colab": {}
      },
      "source": [
        "lista_teste = dados_teste(\"palavras.txt\")\n",
        "vocabulario = tokens_normalizados_unicos"
      ],
      "execution_count": 104,
      "outputs": []
    },
    {
      "cell_type": "code",
      "metadata": {
        "id": "sorHYHFU6w6F",
        "colab_type": "code",
        "colab": {}
      },
      "source": [
        ""
      ],
      "execution_count": 68,
      "outputs": []
    },
    {
      "cell_type": "code",
      "metadata": {
        "id": "FkHGYLOPd4na",
        "colab_type": "code",
        "colab": {
          "base_uri": "https://localhost:8080/",
          "height": 36
        },
        "outputId": "c3a0c703-50ea-41c1-de44-b361ee1d5263"
      },
      "source": [
        "avaliação(lista_teste, vocabulario)"
      ],
      "execution_count": 123,
      "outputs": [
        {
          "output_type": "execute_result",
          "data": {
            "text/plain": [
              "(83.87, 6.99)"
            ]
          },
          "metadata": {
            "tags": []
          },
          "execution_count": 123
        }
      ]
    },
    {
      "cell_type": "code",
      "metadata": {
        "id": "9YazFeui58Of",
        "colab_type": "code",
        "colab": {}
      },
      "source": [
        ""
      ],
      "execution_count": 123,
      "outputs": []
    },
    {
      "cell_type": "code",
      "metadata": {
        "id": "coP6fcd9JXwh",
        "colab_type": "code",
        "colab": {}
      },
      "source": [
        ""
      ],
      "execution_count": 123,
      "outputs": []
    },
    {
      "cell_type": "code",
      "metadata": {
        "id": "lrUk9VDn1F9x",
        "colab_type": "code",
        "colab": {}
      },
      "source": [
        ""
      ],
      "execution_count": 123,
      "outputs": []
    },
    {
      "cell_type": "code",
      "metadata": {
        "id": "GvwGeu6u1Iem",
        "colab_type": "code",
        "colab": {}
      },
      "source": [
        ""
      ],
      "execution_count": 124,
      "outputs": []
    },
    {
      "cell_type": "code",
      "metadata": {
        "id": "JplYi3H41TG-",
        "colab_type": "code",
        "colab": {}
      },
      "source": [
        ""
      ],
      "execution_count": null,
      "outputs": []
    }
  ]
}